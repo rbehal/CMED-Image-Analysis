{
 "cells": [
  {
   "cell_type": "code",
   "execution_count": 1,
   "metadata": {},
   "outputs": [],
   "source": [
    "import cv2\n",
    "import numpy as np\n",
    "\n",
    "from skimage import data, exposure\n",
    "from skimage.feature import blob_dog, blob_log, blob_doh\n",
    "from skimage.color import rgb2gray\n",
    "\n",
    "import matplotlib.pyplot as plt\n",
    "\n",
    "def preprocess_img(img_path):\n",
    "    image = cv2.imread(img_path, cv2.IMREAD_GRAYSCALE)\n",
    "    # Normalize image\n",
    "    min_bit = np.min(image)\n",
    "    max_bit = np.max(image)\n",
    "    image = cv2.normalize(image*16, dst=None, alpha=min_bit*16, beta=max_bit*16, norm_type=cv2.NORM_MINMAX)\n",
    "    return image\n",
    "\n",
    "def print_img(preprocessed_img, title=\"Image\"):    \n",
    "    fig, ax = plt.subplots(figsize=(9, 3))\n",
    "    ax.set_title(title)\n",
    "    ax.imshow(preprocessed_img, cmap=plt.cm.gray)\n",
    "    \n",
    "bf_path = \"R:/Users/Rahul/Documents/494/Data/88hr timelapse/EGFP_1mm/BF/\"\n",
    "day_0 = \"R:/Users/Rahul/Documents/494/Data/Day 0/1mm EGFP/\"\n",
    "\n",
    "sample_spheroid = \"R:/Users/Rahul/Documents/494/Data/88hr timelapse/EGFP_1mm/BF/scan_Plate_R_p00_0_A02f00d4.TIF\"\n",
    "sample_sensor = \"R:/Users/Rahul/Documents/494/Data/88hr timelapse/EGFP_1mm/Texas Red/scan_Plate_R_p00_0_A02f00d3.TIF\"  "
   ]
  },
  {
   "cell_type": "code",
   "execution_count": 2,
   "metadata": {},
   "outputs": [],
   "source": [
    "sample_spheroid = \"R:/Users/Rahul/Documents/494/Data/88hr timelapse/EGFP_1mm/BF/scan_Plate_R_p00_0_A02f00d4.TIF\"\n",
    "sample_sensor = \"R:/Users/Rahul/Documents/494/Data/88hr timelapse/EGFP_1mm/Texas Red/scan_Plate_R_p00_0_A02f00d3.TIF\" "
   ]
  },
  {
   "cell_type": "code",
   "execution_count": 42,
   "metadata": {},
   "outputs": [],
   "source": [
    "sample_spheroid = \"R:/Users/Rahul/Documents/494/Data/Day 0/500um Src/500mmSrc_Day0_Plate_R_p00_0_B01f00d4.TIF\"\n",
    "sample_sensor = \"R:/Users/Rahul/Documents/494/Data/Day 0/500um Src/500mmSrc_Day0_Plate_R_p00_0_B01f00d3.TIF\""
   ]
  },
  {
   "cell_type": "markdown",
   "metadata": {},
   "source": [
    "## 88hr timelapse - Src_500um - First Picture"
   ]
  },
  {
   "cell_type": "code",
   "execution_count": 2,
   "metadata": {},
   "outputs": [],
   "source": [
    "sample_spheroid = \"R:/Users/Rahul/Documents/494/Data/88hr timelapse/Src_500um/BF/scan_Plate_R_p00_0_B01f00d4.TIF\"\n",
    "sample_sensor = \"R:/Users/Rahul/Documents/494/Data/88hr timelapse/Src_500um/Texas Red/scan_Plate_R_p00_0_B01f00d3.TIF\""
   ]
  },
  {
   "cell_type": "code",
   "execution_count": 37,
   "metadata": {},
   "outputs": [],
   "source": [
    "isSensor = False\n",
    "\n",
    "threshold = 100 if isSensor else 120\n",
    "\n",
    "img = sample_sensor if isSensor else sample_spheroid\n",
    "img = preprocess_img(img)\n",
    "\n",
    "_, thresh = cv2.threshold(img, threshold, np.max(img), cv2.THRESH_BINARY)"
   ]
  },
  {
   "cell_type": "code",
   "execution_count": 38,
   "metadata": {},
   "outputs": [],
   "source": [
    "# Retrieval modes and contour approximation types found on OpenCV docs\n",
    "raw_contours, _ = cv2.findContours(thresh, cv2.RETR_TREE, \n",
    "                                       cv2.CHAIN_APPROX_NONE)"
   ]
  },
  {
   "cell_type": "markdown",
   "metadata": {},
   "source": [
    "## Circle detection"
   ]
  },
  {
   "cell_type": "code",
   "execution_count": 39,
   "metadata": {},
   "outputs": [],
   "source": [
    "radius_range = (15, 100) if isSensor else (40, 500)\n",
    "\n",
    "contours = []\n",
    "for contour in raw_contours:\n",
    "    # Most items in raw contours are lines or small shapes\n",
    "    if cv2.contourArea(contour) < (np.pi * radius_range[0] ** 2):\n",
    "        continue\n",
    "    contours.append(contour)    \n",
    "\n",
    "circle_coords = []\n",
    "for contour in contours:\n",
    "    (x, y), r = cv2.minEnclosingCircle(contour)\n",
    "    if r > radius_range[1]:\n",
    "        continue\n",
    "    circle_coords.append((x, y, r))"
   ]
  },
  {
   "cell_type": "code",
   "execution_count": null,
   "metadata": {},
   "outputs": [],
   "source": [
    "verbose = True\n",
    "\n",
    "fig, ax = plt.subplots(figsize=(9, 3))\n",
    "\n",
    "ax.set_title(\"MinEnclosingCircle\")\n",
    "ax.imshow(img, cmap=plt.cm.gray)\n",
    "\n",
    "print(\"All units in um ({} pixels/um)\\n\".format(scale))\n",
    "for idx, circle in enumerate(circle_coords):\n",
    "    x, y, r = circle[0], circle[1], circle[2]\n",
    "    c = plt.Circle((x, y), r, color=\"red\", linewidth=2, fill=False)\n",
    "    \n",
    "    if verbose:\n",
    "        ax.text(x + r, y, str(idx+1), color='red', fontsize=15)\n",
    "        \n",
    "        scale = 0.638\n",
    "        x, y, r = x/scale, y/scale, r/scale\n",
    "        print(\"Circle #{}:\\n center (x,y): ({}, {})\\n area: {}\".format(idx+1,x,y,np.pi*r**2))\n",
    "        \n",
    "    ax.add_patch(c)\n",
    "    \n",
    "ax.set_axis_off()"
   ]
  }
 ],
 "metadata": {
  "kernelspec": {
   "display_name": "pyimagej",
   "language": "python",
   "name": "pyimagej"
  },
  "language_info": {
   "codemirror_mode": {
    "name": "ipython",
    "version": 3
   },
   "file_extension": ".py",
   "mimetype": "text/x-python",
   "name": "python",
   "nbconvert_exporter": "python",
   "pygments_lexer": "ipython3",
   "version": "3.8.6"
  }
 },
 "nbformat": 4,
 "nbformat_minor": 4
}
