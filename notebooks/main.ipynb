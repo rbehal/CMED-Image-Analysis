{
 "cells": [
  {
   "cell_type": "code",
   "execution_count": null,
   "metadata": {},
   "outputs": [],
   "source": [
    "import cv2\n",
    "import numpy as np\n",
    "\n",
    "from skimage import data, exposure\n",
    "from skimage.feature import blob_dog, blob_log, blob_doh\n",
    "from skimage.color import rgb2gray\n",
    "\n",
    "import matplotlib.pyplot as plt\n",
    "\n",
    "def preprocess_img(img_path):\n",
    "    image = cv2.imread(img_path, cv2.IMREAD_GRAYSCALE)\n",
    "    # Normalize image\n",
    "    min_bit = np.min(image)\n",
    "    max_bit = np.max(image)\n",
    "    image = cv2.normalize(image*16, dst=None, alpha=min_bit*16, beta=max_bit*16, norm_type=cv2.NORM_MINMAX)\n",
    "    return image\n",
    "\n",
    "def print_img(preprocessed_img, title=\"Image\"):    \n",
    "    fig, ax = plt.subplots(figsize=(9, 3))\n",
    "    ax.set_title(title)\n",
    "    ax.imshow(preprocessed_img, cmap=plt.cm.gray)\n",
    "    \n",
    "bf_path = \"R:/Users/Rahul/Documents/494/Data/88hr timelapse/EGFP_1mm/BF/\"\n",
    "day_0 = \"R:/Users/Rahul/Documents/494/Data/Day 0/1mm EGFP/\"\n",
    "\n",
    "sample_spheroid = \"R:/Users/Rahul/Documents/494/Data/88hr timelapse/EGFP_1mm/BF/scan_Plate_R_p00_0_A02f00d4.TIF\"\n",
    "sample_sensor = \"R:/Users/Rahul/Documents/494/Data/88hr timelapse/EGFP_1mm/Texas Red/scan_Plate_R_p00_0_A02f00d3.TIF\"  "
   ]
  },
  {
   "cell_type": "code",
   "execution_count": null,
   "metadata": {},
   "outputs": [],
   "source": [
    "sample_spheroid = \"R:/Users/Rahul/Documents/494/Data/88hr timelapse/EGFP_1mm/BF/scan_Plate_R_p00_0_A02f00d4.TIF\"\n",
    "sample_sensor = \"R:/Users/Rahul/Documents/494/Data/88hr timelapse/EGFP_1mm/Texas Red/scan_Plate_R_p00_0_A02f00d3.TIF\" "
   ]
  },
  {
   "cell_type": "code",
   "execution_count": null,
   "metadata": {},
   "outputs": [],
   "source": [
    "sample_spheroid = \"R:/Users/Rahul/Documents/494/Data/Day 0/500um Src/500mmSrc_Day0_Plate_R_p00_0_B01f00d4.TIF\"\n",
    "sample_sensor = \"R:/Users/Rahul/Documents/494/Data/Day 0/500um Src/500mmSrc_Day0_Plate_R_p00_0_B01f00d3.TIF\""
   ]
  },
  {
   "cell_type": "markdown",
   "metadata": {},
   "source": [
    "## 88hr timelapse - Src_500um - First Picture"
   ]
  },
  {
   "cell_type": "code",
   "execution_count": null,
   "metadata": {},
   "outputs": [],
   "source": [
    "sample_spheroid = \"R:/Users/Rahul/Documents/494/Data/88hr timelapse/Src_500um/BF/scan_Plate_R_p00_0_B01f00d4.TIF\"\n",
    "sample_sensor = \"R:/Users/Rahul/Documents/494/Data/88hr timelapse/Src_500um/Texas Red/scan_Plate_R_p00_0_B01f00d3.TIF\""
   ]
  },
  {
   "cell_type": "code",
   "execution_count": null,
   "metadata": {},
   "outputs": [],
   "source": [
    "isSensor = False\n",
    "\n",
    "threshold = 100 if isSensor else 120\n",
    "\n",
    "img = sample_sensor if isSensor else sample_spheroid\n",
    "img = preprocess_img(img)\n",
    "\n",
    "_, thresh = cv2.threshold(img, threshold, np.max(img), cv2.THRESH_BINARY)"
   ]
  },
  {
   "cell_type": "code",
   "execution_count": null,
   "metadata": {},
   "outputs": [],
   "source": [
    "# Retrieval modes and contour approximation types found on OpenCV docs\n",
    "raw_contours, _ = cv2.findContours(thresh, cv2.RETR_TREE, \n",
    "                                       cv2.CHAIN_APPROX_NONE)"
   ]
  },
  {
   "cell_type": "markdown",
   "metadata": {},
   "source": [
    "## Circle detection"
   ]
  },
  {
   "cell_type": "code",
   "execution_count": null,
   "metadata": {},
   "outputs": [],
   "source": [
    "radius_range = (15, 100) if isSensor else (40, 500)\n",
    "\n",
    "contours = []\n",
    "for contour in raw_contours:\n",
    "    # Most items in raw contours are lines or small shapes\n",
    "    if cv2.contourArea(contour) < (np.pi * radius_range[0] ** 2):\n",
    "        continue\n",
    "    contours.append(contour)    \n",
    "\n",
    "circle_coords = []\n",
    "for contour in contours:\n",
    "    (x, y), r = cv2.minEnclosingCircle(contour)\n",
    "    if r > radius_range[1]:\n",
    "        continue\n",
    "    circle_coords.append((x, y, r))"
   ]
  },
  {
   "cell_type": "code",
   "execution_count": null,
   "metadata": {},
   "outputs": [],
   "source": [
    "verbose = True\n",
    "\n",
    "fig, ax = plt.subplots(figsize=(9, 3))\n",
    "\n",
    "ax.set_title(\"MinEnclosingCircle\")\n",
    "ax.imshow(img, cmap=plt.cm.gray)\n",
    "\n",
    "print(\"All units in um ({} pixels/um)\\n\".format(scale))\n",
    "for idx, circle in enumerate(circle_coords):\n",
    "    x, y, r = circle[0], circle[1], circle[2]\n",
    "    c = plt.Circle((x, y), r, color=\"red\", linewidth=2, fill=False)\n",
    "    \n",
    "    if verbose:\n",
    "        ax.text(x + r, y, str(idx+1), color='red', fontsize=15)\n",
    "        \n",
    "        scale = 0.638\n",
    "        x, y, r = x/scale, y/scale, r/scale\n",
    "        print(\"Circle #{}:\\n center (x,y): ({}, {})\\n area: {}\".format(idx+1,x,y,np.pi*r**2))\n",
    "        \n",
    "    ax.add_patch(c)\n",
    "    \n",
    "ax.set_axis_off()"
   ]
  },
  {
   "cell_type": "code",
   "execution_count": null,
   "metadata": {},
   "outputs": [],
   "source": []
  },
  {
   "cell_type": "code",
   "execution_count": null,
   "metadata": {},
   "outputs": [],
   "source": []
  },
  {
   "cell_type": "code",
   "execution_count": null,
   "metadata": {},
   "outputs": [],
   "source": [
    "import xlsxwriter"
   ]
  },
  {
   "cell_type": "code",
   "execution_count": null,
   "metadata": {},
   "outputs": [],
   "source": [
    "workbook = xlsxwriter.Workbook(\"C:/Users/Rahul Behal/Desktop/test2.xlsx\")\n",
    "worksheet = workbook.add_worksheet(\"Raw Data\")\n",
    "\n",
    "h1_format = workbook.add_format({\n",
    "    'bold': 1,\n",
    "    'underline': 1,\n",
    "    'align': 'center',\n",
    "    'valign': 'vcenter',\n",
    "    'fg_color': '#FFD966'})\n",
    "h2_format = workbook.add_format({\n",
    "    'bold': 1,\n",
    "    'underline': 1,\n",
    "    'align': 'center',\n",
    "    'valign': 'vcenter',\n",
    "    'fg_color': '#F4B084'})\n",
    "h3_format = workbook.add_format({\n",
    "    'bold': 1,\n",
    "    'align': 'center',\n",
    "    'valign': 'vcenter',\n",
    "    'fg_color': '#C6E0B4'})\n",
    "id_format = workbook.add_format({\n",
    "    'bold': 1,\n",
    "    'align': 'left',\n",
    "    'fg_color': '#8EA9DB'})\n",
    "data_format = workbook.add_format({'align': 'right','fg_color': '#C6E0B4'})\n",
    "data_format.set_num_format('0.00')"
   ]
  },
  {
   "cell_type": "code",
   "execution_count": null,
   "metadata": {},
   "outputs": [],
   "source": [
    "data = {'p02': ({'1': ['365269.40712547314', '2488.244514106583', '1596.3949843260189', '340.9822039469656', '340.9822039469656', '0'], '2': ['223851.89996122388', '1380.0719449512637', '824.91797563798', '266.9349598660364', '266.9349598660364', '0']}, {'1a': ['2986.7974600324383', '2423.662430814067', '1853.3110902600902', '66.26275041634013', '57.39134905106595', \n",
    "'63.865631103515625'], '1b': ['12510.93456137555', '2479.1829937304074', '1698.1511130975705', '136.27348275020205', '116.89300297943402', '30.570865631103516'], '2a': ['908.2700111213213', '1431.3133502828664', '718.6528029486677', '36.642651572870236', '31.56008765241569', '7.639884948730469']}), 'p00': ({'1': ['411759.2528030942', '2456.5217308116185', '1589.6783428132346', '362.03182304167075', '362.03182304167075', '0'], '2': ['263809.2263241648', '1404.000691859326', '817.7392654658111', '289.7810980817741', '289.7810980817741', '0']}, {'1a': ['3426.1757408246467', '2411.6044477982955', '1866.6529162176723', '76.14037086223733', '57.293422543516726', '80.4987564086914'], '1b': ['14985.163505837763', '2475.3639914772725', '1688.5259263567789', '146.6280419998408', '130.12315038603302', '22.962120056152344'], '2a': ['1983.456782884504', '1429.697449304467', '725.7778921097423', '51.42788901971799', '49.10595514183881', '19.82471466064453']}), 'p01': ({'1': ['358753.45656505664', '2500.064096480701', '1604.2554131869613', '337.92716956063873', '337.92716956063873', '0'], '2': ['232930.15192237854', '1392.092618075284', '816.1655533650078', '272.2939039846199', '272.2939039846199', '0']}, {'1a': ['3974.5447164205184', '2420.5146239469045', '1863.6149343652037', '83.07676404994857', '60.914114351182896', '81.33804035186768'], '1b': ['14449.666105361177', '2475.0178704814853', '1694.2368271208854', '143.54736902123335', '128.16595956449598', '28.087814331054688'], '2a': ['1148.1521093521646', '1431.261020768025', '722.0631662207337', '44.396523024221196', '32.927638684694294', '27.459762573242188']})} \n",
    "baseId = 'p00'\n",
    "spheroidIds = sorted(data[baseId][0].keys())\n",
    "sensorIds = sorted(data[baseId][1].keys())"
   ]
  },
  {
   "cell_type": "code",
   "execution_count": null,
   "metadata": {},
   "outputs": [],
   "source": [
    "sensorCount = {}\n",
    "for spheroidId in spheroidIds:\n",
    "    sensorList = []\n",
    "    for sensorId in sensorIds:\n",
    "        if int(spheroidId) == int(sensorId[0]):\n",
    "            sensorList.append(sensorId)\n",
    "    sensorCount[spheroidId] = sensorList"
   ]
  },
  {
   "cell_type": "code",
   "execution_count": null,
   "metadata": {
    "scrolled": true
   },
   "outputs": [],
   "source": [
    "headerRow = [\"ID#\",\"AREA\",\"X\",\"Y\",\"MAJOR\",\"MINOR\",\"ADJ. ANGLE\",\"ID#\",\"AREA\",\"X\",\"Y\",\"MAJOR\",\"MINOR\",\"ADJ. ANGLE\"]     "
   ]
  },
  {
   "cell_type": "code",
   "execution_count": null,
   "metadata": {},
   "outputs": [],
   "source": [
    "def writeRawDayData(startRow, startCol, dayId):\n",
    "    rowNum, colNum = startRow, startCol\n",
    "    \n",
    "    # Convert spheroid and sensor data into arrays of strings for Excel write\n",
    "    spheroidRows = []\n",
    "    for id_ in spheroidIds:\n",
    "        rowData = data[dayId][0].get(id_,['','','','','','',''])\n",
    "        spheroidRows.append([str(id_)] + rowData)\n",
    "    sensorRows = []\n",
    "    for id_ in sensorIds:\n",
    "        rowData = data[dayId][1].get(id_,['','','','','','',''])\n",
    "        sensorRows.append([str(id_)] + rowData)       \n",
    "    \n",
    "    # Header Rows\n",
    "    worksheet.merge_range(startRow, startCol, startRow, startCol + 13, \"DAY{}\".format(dayId.upper()), h1_format)\n",
    "    rowNum = rowNum + 1\n",
    "    worksheet.merge_range(rowNum, startCol, rowNum, startCol + 6, \"SPHEROID\", h2_format)\n",
    "    worksheet.merge_range(rowNum, startCol + 7, rowNum, startCol + 13, \"SENSOR\", h2_format)\n",
    "    rowNum = rowNum + 1\n",
    "    for i in range(len(headerRow)):\n",
    "        entry = headerRow[i]\n",
    "        if i == 0 or i == 7:\n",
    "            worksheet.write(rowNum, colNum, entry, id_format)\n",
    "        else:\n",
    "            worksheet.write(rowNum, colNum, entry, h3_format)\n",
    "        colNum = colNum + 1\n",
    "    rowNum = rowNum + 1\n",
    "    colNum = startCol\n",
    "\n",
    "\n",
    "\n",
    "    # Spheroid Rows\n",
    "    data_start = rowNum, colNum\n",
    "\n",
    "    for row in spheroidRows:\n",
    "        for j in range(len(row)):\n",
    "            entry = row[j]\n",
    "            if j > 0:\n",
    "                worksheet.write_number(rowNum, colNum, float(entry), data_format)\n",
    "            else:\n",
    "                worksheet.write_number(rowNum, colNum, float(entry), id_format)\n",
    "            colNum = colNum + 1\n",
    "        currRow = rowNum\n",
    "\n",
    "        rowNum = rowNum + 1\n",
    "        colNum = startCol   \n",
    "\n",
    "        if row == spheroidRows[-1]:\n",
    "            break\n",
    "        while rowNum < currRow + len(sensorCount[row[0]]) + 1:\n",
    "            for j in range(len(row)):\n",
    "                if j > 0:\n",
    "                    worksheet.write(rowNum, colNum, \"\", data_format)\n",
    "                else:\n",
    "                    worksheet.write(rowNum, colNum, \"\", id_format)\n",
    "                colNum = colNum + 1     \n",
    "            rowNum = rowNum + 1\n",
    "            colNum = startCol\n",
    "\n",
    "\n",
    "\n",
    "    # Sensor Rows\n",
    "    rowNum, colNum = data_start\n",
    "    colNum = colNum + 7\n",
    "\n",
    "    for i in range(len(sensorRows)):\n",
    "        row = sensorRows[i]\n",
    "        for j in range(len(row)):\n",
    "            entry = row[j]\n",
    "            if j > 0:\n",
    "                worksheet.write_number(rowNum, colNum, float(entry), data_format)\n",
    "            else:\n",
    "                worksheet.write(rowNum, colNum, entry, id_format)\n",
    "            colNum = colNum + 1\n",
    "\n",
    "        if i < len(sensorRows) - 1:\n",
    "            if int(sensorRows[i+1][0][0]) != int(row[0][0]):\n",
    "                rowNum = rowNum + 1  \n",
    "                colNum = startCol + 7\n",
    "                for j in range(len(row)):\n",
    "                    if j > 0:\n",
    "                        worksheet.write(rowNum, colNum, \"\", data_format)\n",
    "                    else:\n",
    "                        worksheet.write(rowNum, colNum, \"\", id_format)\n",
    "                    colNum = colNum + 1     \n",
    "\n",
    "        rowNum = rowNum + 1            \n",
    "        colNum = startCol + 7"
   ]
  },
  {
   "cell_type": "code",
   "execution_count": null,
   "metadata": {},
   "outputs": [],
   "source": [
    "# Start\n",
    "dayIds = sorted(data.keys())\n",
    "rowNum, colNum = 0, 0\n",
    "for i in range(len(dayIds)):\n",
    "    id_ = dayIds[i]\n",
    "    writeRawDayData(rowNum, colNum+(15*i), id_)\n",
    "worksheet.set_column(0, 15*len(dayIds), 10)    "
   ]
  },
  {
   "cell_type": "code",
   "execution_count": null,
   "metadata": {},
   "outputs": [],
   "source": [
    "workbook.close()"
   ]
  }
 ],
 "metadata": {
  "kernelspec": {
   "display_name": "pyimagej",
   "language": "python",
   "name": "pyimagej"
  },
  "language_info": {
   "codemirror_mode": {
    "name": "ipython",
    "version": 3
   },
   "file_extension": ".py",
   "mimetype": "text/x-python",
   "name": "python",
   "nbconvert_exporter": "python",
   "pygments_lexer": "ipython3",
   "version": "3.8.5"
  }
 },
 "nbformat": 4,
 "nbformat_minor": 4
}
