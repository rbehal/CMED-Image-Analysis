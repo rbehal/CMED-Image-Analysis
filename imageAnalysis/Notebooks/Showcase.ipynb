{
 "cells": [
  {
   "cell_type": "code",
   "execution_count": 1,
   "metadata": {},
   "outputs": [],
   "source": [
    "import cv2\n",
    "import numpy as np\n",
    "\n",
    "from skimage import data, exposure\n",
    "from skimage.feature import blob_dog, blob_log, blob_doh\n",
    "from skimage.color import rgb2gray\n",
    "\n",
    "import matplotlib.pyplot as plt\n",
    "from matplotlib.patches import Ellipse\n",
    "\n",
    "def preprocess_img(img_path):\n",
    "    image = cv2.imread(img_path, cv2.IMREAD_GRAYSCALE)\n",
    "    # Normalize image\n",
    "    min_bit = np.min(image)\n",
    "    max_bit = np.max(image)\n",
    "    image = cv2.normalize(image*16, dst=None, alpha=min_bit*16, beta=max_bit*16, norm_type=cv2.NORM_MINMAX)\n",
    "    return image\n",
    "\n",
    "def print_img(preprocessed_img, title=\"Image\"):    \n",
    "    fig, ax = plt.subplots(figsize=(9, 3))\n",
    "    ax.set_title(title)\n",
    "    ax.imshow(preprocessed_img, cmap=plt.cm.gray)"
   ]
  },
  {
   "cell_type": "markdown",
   "metadata": {},
   "source": [
    "# Src 500um - 88hr timelapse"
   ]
  },
  {
   "cell_type": "code",
   "execution_count": 2,
   "metadata": {},
   "outputs": [],
   "source": [
    "# bf_path = \"R:/Users/Rahul/Documents/494/Data/88hr timelapse/Src_500um/BF/\"\n",
    "# tr_path = \"R:/Users/Rahul/Documents/494/Data/88hr timelapse/Src_500um/Texas Red/\"\n",
    "bf_path = \"C:/Users/Rahul Behal/Documents/494/Data/88hr timelapse/Src_500um/BF/\"\n",
    "tr_path = \"C:/Users/Rahul Behal/Documents/494/Data/88hr timelapse/Src_500um/Texas Red/\""
   ]
  },
  {
   "cell_type": "markdown",
   "metadata": {},
   "source": [
    "## Day 0 "
   ]
  },
  {
   "cell_type": "code",
   "execution_count": null,
   "metadata": {},
   "outputs": [],
   "source": [
    "sample_spheroid = bf_path + \"scan_Plate_R_p00_0_B01f00d4.TIF\"\n",
    "sample_sensor = tr_path + \"scan_Plate_R_p00_0_B01f00d3.TIF\""
   ]
  },
  {
   "cell_type": "markdown",
   "metadata": {},
   "source": [
    "### Spheroid"
   ]
  },
  {
   "cell_type": "code",
   "execution_count": null,
   "metadata": {},
   "outputs": [],
   "source": [
    "threshold = 120 # Can vary between images\n",
    "\n",
    "img = sample_spheroid\n",
    "img = preprocess_img(img)\n",
    "\n",
    "_, thresh = cv2.threshold(img, threshold, np.max(img), cv2.THRESH_BINARY)\n",
    "\n",
    "print_img(img, \"Normal Image\")\n",
    "print_img(thresh, \"Thresholded Image\")"
   ]
  },
  {
   "cell_type": "code",
   "execution_count": null,
   "metadata": {},
   "outputs": [],
   "source": [
    "# Retrieval modes and contour approximation types found on OpenCV docs\n",
    "raw_contours, _ = cv2.findContours(thresh, cv2.RETR_TREE, \n",
    "                                       cv2.CHAIN_APPROX_NONE)\n",
    "\n",
    "radius_range = (40, 500) # Can vary between images \n",
    "\n",
    "contours = [] # New contour array that only has significant contours\n",
    "for contour in raw_contours:\n",
    "    # Most items in raw contours are lines or small shapes\n",
    "    if cv2.contourArea(contour) < (np.pi * radius_range[0] ** 2):\n",
    "        continue\n",
    "    contours.append(contour)    \n",
    "\n",
    "circle_coords = []\n",
    "for contour in contours:\n",
    "    (x, y), r = cv2.minEnclosingCircle(contour)\n",
    "    if r > radius_range[1]:\n",
    "        continue\n",
    "    circle_coords.append((x, y, r))"
   ]
  },
  {
   "cell_type": "code",
   "execution_count": null,
   "metadata": {},
   "outputs": [],
   "source": [
    "scale = 0.638 # pixels / um \n",
    "\n",
    "verbose = True\n",
    "\n",
    "fig, ax = plt.subplots(figsize=(9, 3))\n",
    "\n",
    "ax.set_title(\"MinEnclosingCircle\")\n",
    "ax.imshow(img, cmap=plt.cm.gray)\n",
    "\n",
    "print(\"All units in um ({} pixels/um)\\n\".format(scale))\n",
    "for idx, circle in enumerate(circle_coords):\n",
    "    x, y, r = circle[0], circle[1], circle[2]\n",
    "    c = plt.Circle((x, y), r, color=\"red\", linewidth=2, fill=False)\n",
    "    \n",
    "    if verbose:\n",
    "        ax.text(x + r, y, str(idx+1), color='red', fontsize=15)\n",
    "        \n",
    "        x, y, r = x/scale, y/scale, r/scale\n",
    "        print(\"Circle #{}:\\n center (x,y): ({}, {})\\n area: {}\".format(idx+1,x,y,np.pi*r**2))\n",
    "        \n",
    "    ax.add_patch(c)\n",
    "    \n",
    "ax.set_axis_off()"
   ]
  },
  {
   "cell_type": "markdown",
   "metadata": {},
   "source": [
    "### Sensor"
   ]
  },
  {
   "cell_type": "code",
   "execution_count": null,
   "metadata": {},
   "outputs": [],
   "source": [
    "threshold = 150\n",
    "radius_range = (10, 100)\n",
    "\n",
    "\n",
    "img = sample_sensor\n",
    "img = preprocess_img(img)\n",
    "\n",
    "_, thresh = cv2.threshold(img, threshold, np.max(img), cv2.THRESH_BINARY)\n",
    "\n",
    "print_img(img, \"Normal Image\")\n",
    "print_img(thresh, \"Thresholded Image\")\n",
    "\n",
    "# Retrieval modes and contour approximation types found on OpenCV docs\n",
    "raw_contours, _ = cv2.findContours(thresh, cv2.RETR_TREE, \n",
    "                                       cv2.CHAIN_APPROX_NONE)\n",
    "\n",
    "contours = [] # New contour array that only has significant contours\n",
    "for contour in raw_contours:\n",
    "    # Most items in raw contours are lines or small shapes\n",
    "    if cv2.contourArea(contour) < (np.pi * radius_range[0] ** 2):\n",
    "        continue\n",
    "    contours.append(contour)    \n",
    "\n",
    "circle_coords = []\n",
    "for contour in contours:\n",
    "    (x, y), r = cv2.minEnclosingCircle(contour)\n",
    "    if r > radius_range[1]:\n",
    "        continue\n",
    "    circle_coords.append((x, y, r))\n",
    "    \n",
    "verbose = True\n",
    "\n",
    "fig, ax = plt.subplots(figsize=(9, 3))\n",
    "\n",
    "ax.set_title(\"MinEnclosingCircle\")\n",
    "ax.imshow(img, cmap=plt.cm.gray)\n",
    "\n",
    "print(\"All units in um ({} pixels/um)\\n\".format(scale))\n",
    "for idx, circle in enumerate(circle_coords):\n",
    "    x, y, r = circle[0], circle[1], circle[2]\n",
    "    c = plt.Circle((x, y), r, color=\"red\", linewidth=2, fill=False)\n",
    "    \n",
    "    if verbose:\n",
    "        ax.text(x + r, y, str(idx+1), color='red', fontsize=15)\n",
    "        \n",
    "        scale = 0.638\n",
    "        x, y, r = x/scale, y/scale, r/scale\n",
    "        print(\"Circle #{}:\\n center (x,y): ({}, {})\\n area: {}\".format(idx+1,x,y,np.pi*r**2))\n",
    "        \n",
    "    ax.add_patch(c)"
   ]
  },
  {
   "cell_type": "code",
   "execution_count": null,
   "metadata": {},
   "outputs": [],
   "source": [
    "print_img(img)"
   ]
  },
  {
   "cell_type": "markdown",
   "metadata": {},
   "source": [
    "## Day 11"
   ]
  },
  {
   "cell_type": "code",
   "execution_count": null,
   "metadata": {},
   "outputs": [],
   "source": [
    "sample_spheroid = bf_path + \"scan_Plate_R_p11_0_B01f00d4.TIF\"\n",
    "sample_sensor = tr_path + \"scan_Plate_R_p11_0_B01f00d3.TIF\""
   ]
  },
  {
   "cell_type": "markdown",
   "metadata": {},
   "source": [
    "### Spheroid"
   ]
  },
  {
   "cell_type": "code",
   "execution_count": null,
   "metadata": {},
   "outputs": [],
   "source": [
    "threshold = 150\n",
    "radius_range = (40, 500)\n",
    "\n",
    "\n",
    "img = sample_spheroid\n",
    "img = preprocess_img(img)\n",
    "\n",
    "_, thresh = cv2.threshold(img, threshold, np.max(img), cv2.THRESH_BINARY)\n",
    "\n",
    "print_img(img, \"Normal Image\")\n",
    "print_img(thresh, \"Thresholded Image\")\n",
    "\n",
    "# Retrieval modes and contour approximation types found on OpenCV docs\n",
    "raw_contours, _ = cv2.findContours(thresh, cv2.RETR_TREE, \n",
    "                                       cv2.CHAIN_APPROX_NONE)\n",
    "\n",
    "contours = [] # New contour array that only has significant contours\n",
    "for contour in raw_contours:\n",
    "    # Most items in raw contours are lines or small shapes\n",
    "    if cv2.contourArea(contour) < (np.pi * radius_range[0] ** 2):\n",
    "        continue\n",
    "    contours.append(contour)    \n",
    "\n",
    "circle_coords = []\n",
    "for contour in contours:\n",
    "    (x, y), r = cv2.minEnclosingCircle(contour)\n",
    "    if r > radius_range[1]:\n",
    "        continue\n",
    "    circle_coords.append((x, y, r))\n",
    "    \n",
    "verbose = True\n",
    "\n",
    "fig, ax = plt.subplots(figsize=(9, 3))\n",
    "\n",
    "ax.set_title(\"MinEnclosingCircle\")\n",
    "ax.imshow(img, cmap=plt.cm.gray)\n",
    "\n",
    "print(\"All units in um ({} pixels/um)\\n\".format(scale))\n",
    "for idx, circle in enumerate(circle_coords):\n",
    "    x, y, r = circle[0], circle[1], circle[2]\n",
    "    c = plt.Circle((x, y), r, color=\"red\", linewidth=2, fill=False)\n",
    "    \n",
    "    if verbose:\n",
    "        ax.text(x + r, y, str(idx+1), color='red', fontsize=15)\n",
    "        \n",
    "        scale = 0.638\n",
    "        x, y, r = x/scale, y/scale, r/scale\n",
    "        print(\"Circle #{}:\\n center (x,y): ({}, {})\\n area: {}\".format(idx+1,x,y,np.pi*r**2))\n",
    "        \n",
    "    ax.add_patch(c)"
   ]
  },
  {
   "cell_type": "code",
   "execution_count": null,
   "metadata": {},
   "outputs": [],
   "source": [
    "threshold = 120\n",
    "radius_range = (40, 500)\n",
    "\n",
    "\n",
    "img = sample_spheroid\n",
    "img = preprocess_img(img)\n",
    "\n",
    "_, thresh = cv2.threshold(img, threshold, np.max(img), cv2.THRESH_BINARY)\n",
    "print_img(thresh)"
   ]
  },
  {
   "cell_type": "markdown",
   "metadata": {},
   "source": [
    "### Sensor -- Ellipse"
   ]
  },
  {
   "cell_type": "code",
   "execution_count": null,
   "metadata": {},
   "outputs": [],
   "source": [
    "threshold = 70\n",
    "\n",
    "img = preprocess_img(sample_sensor)\n",
    "\n",
    "_, thresh = cv2.threshold(img, threshold, np.max(img), cv2.THRESH_BINARY)\n",
    "\n",
    "print_img(img, \"Normal Image\")\n",
    "print_img(thresh, \"Thresholded Image\")"
   ]
  },
  {
   "cell_type": "code",
   "execution_count": null,
   "metadata": {},
   "outputs": [],
   "source": [
    "raw_contours, _ = cv2.findContours(thresh, cv2.RETR_TREE, \n",
    "                                       cv2.CHAIN_APPROX_NONE)"
   ]
  },
  {
   "cell_type": "code",
   "execution_count": null,
   "metadata": {},
   "outputs": [],
   "source": [
    "# Sensors\n",
    "radius_range = (10, 500)\n",
    "\n",
    "contours = []\n",
    "for contour in raw_contours:\n",
    "    # Most items in raw contours are lines or small shapes\n",
    "    if cv2.contourArea(contour) < (np.pi * radius_range[0] ** 2):\n",
    "        continue\n",
    "    contours.append(contour)\n",
    "\n",
    "ellipse_coords = []\n",
    "for contour in contours:\n",
    "    (x,y),(w,h),ang = cv2.fitEllipse(contour)\n",
    "    if max(w,h) > radius_range[1]:\n",
    "        continue\n",
    "    ellipse_coords.append(((x,y),(w,h),ang))"
   ]
  },
  {
   "cell_type": "code",
   "execution_count": null,
   "metadata": {
    "scrolled": true
   },
   "outputs": [],
   "source": [
    "verbose = True\n",
    "\n",
    "fig, ax = plt.subplots(figsize=(9, 3))\n",
    "\n",
    "ax.set_title(\"FitEllipse\")\n",
    "ax.imshow(img, cmap=plt.cm.gray)\n",
    "\n",
    "for idx, ellipse in enumerate(ellipse_coords):\n",
    "    (x,y), (w,h), ang = ellipse\n",
    "    \n",
    "    e = Ellipse((x,y), w, h, ang, color=\"red\", linewidth=2, fill=False)\n",
    "    \n",
    "    if verbose: \n",
    "        ax.text(x + w, y, str(idx+1), color='red', fontsize=15)\n",
    "        \n",
    "        scale = 0.638\n",
    "        x, y, w, h = x/scale, y/scale, w/scale, h/scale\n",
    "        \n",
    "        # OpenCV to ImageJ Angle Conversion\n",
    "        if ang > 90:\n",
    "            ang = 270 - ang\n",
    "        else:\n",
    "            ang = 90 - ang\n",
    "        \n",
    "        area = w * h * np.pi / 4\n",
    "        print(\"Ellipse #{}:\\n center (x,y): ({}, {})\\n area: {}, major: {}, minor: {}, angle: {}\".format(idx+1,x,y,area,max(w,h),min(w,h),ang))\n",
    "        \n",
    "    ax.add_patch(e)"
   ]
  },
  {
   "cell_type": "markdown",
   "metadata": {},
   "source": [
    "## OpenCV Display"
   ]
  },
  {
   "cell_type": "code",
   "execution_count": 3,
   "metadata": {},
   "outputs": [],
   "source": [
    "sample_spheroid = bf_path + \"scan_Plate_R_p11_0_B01f00d4.TIF\"\n",
    "sample_sensor = tr_path + \"scan_Plate_R_p11_0_B01f00d3.TIF\""
   ]
  },
  {
   "cell_type": "code",
   "execution_count": 4,
   "metadata": {},
   "outputs": [
    {
     "data": {
      "image/png": "[encoded data removed]",
      "text/plain": [
       "<Figure size 648x216 with 1 Axes>"
      ]
     },
     "metadata": {
      "needs_background": "light"
     },
     "output_type": "display_data"
    },
    {
     "data": {
      "image/png": "[encoded data removed]",
      "text/plain": [
       "<Figure size 648x216 with 1 Axes>"
      ]
     },
     "metadata": {
      "needs_background": "light"
     },
     "output_type": "display_data"
    }
   ],
   "source": [
    "threshold = 70\n",
    "\n",
    "img = preprocess_img(sample_sensor)\n",
    "\n",
    "_, thresh = cv2.threshold(img, threshold, np.max(img), cv2.THRESH_BINARY)\n",
    "\n",
    "print_img(img, \"Normal Image\")\n",
    "print_img(thresh, \"Thresholded Image\")"
   ]
  },
  {
   "cell_type": "code",
   "execution_count": 5,
   "metadata": {},
   "outputs": [],
   "source": [
    "raw_contours, _ = cv2.findContours(thresh, cv2.RETR_TREE, \n",
    "                                       cv2.CHAIN_APPROX_NONE)"
   ]
  },
  {
   "cell_type": "code",
   "execution_count": 6,
   "metadata": {},
   "outputs": [],
   "source": [
    "# Sensors\n",
    "radius_range = (10, 500)\n",
    "\n",
    "contours = []\n",
    "for contour in raw_contours:\n",
    "    # Most items in raw contours are lines or small shapes\n",
    "    if cv2.contourArea(contour) < (np.pi * radius_range[0] ** 2):\n",
    "        continue\n",
    "    contours.append(contour)\n",
    "\n",
    "ellipse_coords = []\n",
    "for contour in contours:\n",
    "    (x,y),(w,h),ang = cv2.fitEllipse(contour)\n",
    "    if max(w,h) > radius_range[1]:\n",
    "        continue\n",
    "    ellipse_coords.append(((x,y),(w,h),ang))"
   ]
  },
  {
   "cell_type": "code",
   "execution_count": 7,
   "metadata": {},
   "outputs": [],
   "source": [
    "new_image = img"
   ]
  },
  {
   "cell_type": "code",
   "execution_count": 8,
   "metadata": {},
   "outputs": [],
   "source": []
  },
  {
   "cell_type": "code",
   "execution_count": 9,
   "metadata": {},
   "outputs": [],
   "source": [
    "cv2.imshow(\"fdsafe\", new_image)\n",
    "cv2.waitKey(0)    \n",
    "cv2.destroyAllWindows()  "
   ]
  },
  {
   "cell_type": "code",
   "execution_count": null,
   "metadata": {},
   "outputs": [],
   "source": [
    "verbose = True\n",
    "\n",
    "fig, ax = plt.subplots(figsize=(9, 3))\n",
    "\n",
    "ax.set_title(\"FitEllipse\")\n",
    "ax.imshow(img, cmap=plt.cm.gray)\n",
    "\n",
    "for idx, ellipse in enumerate(ellipse_coords):\n",
    "    (x,y), (w,h), ang = ellipse\n",
    "    \n",
    "    e = Ellipse((x,y), w, h, ang, color=\"red\", linewidth=2, fill=False)\n",
    "    \n",
    "    if verbose: \n",
    "        ax.text(x + w, y, str(idx+1), color='red', fontsize=15)\n",
    "        \n",
    "        scale = 0.638\n",
    "        x, y, w, h = x/scale, y/scale, w/scale, h/scale\n",
    "        \n",
    "        # OpenCV to ImageJ Angle Conversion\n",
    "        if ang > 90:\n",
    "            ang = 270 - ang\n",
    "        else:\n",
    "            ang = 90 - ang\n",
    "        \n",
    "        area = w * h * np.pi / 4\n",
    "        print(\"Ellipse #{}:\\n center (x,y): ({}, {})\\n area: {}, major: {}, minor: {}, angle: {}\".format(idx+1,x,y,area,max(w,h),min(w,h),ang))\n",
    "        \n",
    "    ax.add_patch(e)"
   ]
  },
  {
   "cell_type": "code",
   "execution_count": 11,
   "metadata": {},
   "outputs": [],
   "source": [
    "temp = [((5,2),2),3,2,1]"
   ]
  }
 ],
 "metadata": {
  "kernelspec": {
   "display_name": "pyimagej",
   "language": "python",
   "name": "pyimagej"
  },
  "language_info": {
   "codemirror_mode": {
    "name": "ipython",
    "version": 3
   },
   "file_extension": ".py",
   "mimetype": "text/x-python",
   "name": "python",
   "nbconvert_exporter": "python",
   "pygments_lexer": "ipython3",
   "version": "3.8.5"
  }
 },
 "nbformat": 4,
 "nbformat_minor": 4
}
