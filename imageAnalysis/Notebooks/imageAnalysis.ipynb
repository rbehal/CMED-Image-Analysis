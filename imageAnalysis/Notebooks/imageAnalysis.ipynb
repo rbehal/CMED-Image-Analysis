{
 "cells": [
  {
   "cell_type": "markdown",
   "metadata": {},
   "source": [
    "# Setup"
   ]
  },
  {
   "cell_type": "code",
   "execution_count": 56,
   "metadata": {
    "scrolled": true
   },
   "outputs": [],
   "source": [
    "import cv2\n",
    "import numpy as np\n",
    "\n",
    "from skimage import data, exposure\n",
    "from skimage.feature import blob_dog, blob_log, blob_doh\n",
    "from skimage.color import rgb2gray\n",
    "\n",
    "import matplotlib.pyplot as plt\n",
    "from matplotlib.patches import Ellipse"
   ]
  },
  {
   "cell_type": "code",
   "execution_count": 2,
   "metadata": {},
   "outputs": [],
   "source": [
    "bf_path = \"R:/Users/Rahul/Documents/494/Data/88hr timelapse/EGFP_1mm/BF/\"\n",
    "tr_path = \"R:/Users/Rahul/Documents/494/Data/88hr timelapse/EGFP_1mm/Texas Red/\"\n",
    "\n",
    "day_0 = \"R:/Users/Rahul/Documents/494/Data/Day 0/1mm EGFP/\"\n",
    "sample_img = \"1mmEGFP_Day0_Plate_R_p00_0_A02f01d4.TIF\"\n",
    "\n",
    "sample_spheroid = \"R:/Users/Rahul/Documents/494/Data/88hr timelapse/EGFP_1mm/BF/scan_Plate_R_p00_0_A02f00d4.TIF\"\n",
    "sample_sensor = \"R:/Users/Rahul/Documents/494/Data/88hr timelapse/EGFP_1mm/Texas Red/scan_Plate_R_p00_0_A02f00d3.TIF\""
   ]
  },
  {
   "cell_type": "code",
   "execution_count": null,
   "metadata": {},
   "outputs": [],
   "source": [
    "print_img(day_0 + sample_img)"
   ]
  },
  {
   "cell_type": "markdown",
   "metadata": {},
   "source": [
    "## Helper Functions"
   ]
  },
  {
   "cell_type": "code",
   "execution_count": 3,
   "metadata": {},
   "outputs": [],
   "source": [
    "def preprocess_img(img_path):\n",
    "    image = cv2.imread(img_path, cv2.IMREAD_GRAYSCALE)\n",
    "    # Normalize image\n",
    "    min_bit = np.min(image)\n",
    "    max_bit = np.max(image)\n",
    "    image = cv2.normalize(image*16, dst=None, alpha=min_bit*16, beta=max_bit*16, norm_type=cv2.NORM_MINMAX)\n",
    "    return image\n",
    "\n",
    "def print_img(preprocessed_img, title=\"Image\"):    \n",
    "    fig, ax = plt.subplots(figsize=(9, 3))\n",
    "    ax.set_title(title)\n",
    "    ax.imshow(preprocessed_img, cmap=plt.cm.gray)\n",
    "    \n",
    "def map_uint16_to_uint8(img, lower_bound=None, upper_bound=None):\n",
    "    '''\n",
    "    Map a 16-bit image trough a lookup table to convert it to 8-bit.\n",
    "\n",
    "    Parameters\n",
    "    ----------\n",
    "    img: numpy.ndarray[np.uint16]\n",
    "        image that should be mapped\n",
    "    lower_bound: int, optional\n",
    "        lower bound of the range that should be mapped to ``[0, 255]``,\n",
    "        value must be in the range ``[0, 65535]`` and smaller than `upper_bound`\n",
    "        (defaults to ``numpy.min(img)``)\n",
    "    upper_bound: int, optional\n",
    "       upper bound of the range that should be mapped to ``[0, 255]``,\n",
    "       value must be in the range ``[0, 65535]`` and larger than `lower_bound`\n",
    "       (defaults to ``numpy.max(img)``)\n",
    "\n",
    "    Returns\n",
    "    -------\n",
    "    numpy.ndarray[uint8]\n",
    "    '''\n",
    "    if not(0 <= lower_bound < 2**16) and lower_bound is not None:\n",
    "        raise ValueError(\n",
    "            '\"lower_bound\" must be in the range [0, 65535]')\n",
    "    if not(0 <= upper_bound < 2**16) and upper_bound is not None:\n",
    "        raise ValueError(\n",
    "            '\"upper_bound\" must be in the range [0, 65535]')\n",
    "    if lower_bound is None:\n",
    "        lower_bound = np.min(img)\n",
    "    if upper_bound is None:\n",
    "        upper_bound = np.max(img)\n",
    "    if lower_bound >= upper_bound:\n",
    "        raise ValueError(\n",
    "            '\"lower_bound\" must be smaller than \"upper_bound\"')\n",
    "    lut = np.concatenate([\n",
    "        np.zeros(lower_bound, dtype=np.uint16),\n",
    "        np.linspace(0, 255, upper_bound - lower_bound).astype(np.uint16),\n",
    "        np.ones(2**16 - upper_bound, dtype=np.uint16) * 255\n",
    "    ])\n",
    "    return lut[img].astype(np.uint8)\n",
    "\n",
    "def scale_print(img_arr):\n",
    "    cv2.namedWindow(\"output\", cv2.WINDOW_NORMAL)   \n",
    "    \n",
    "    min_bit = np.min(img_arr)\n",
    "    max_bit = np.max(img_arr)\n",
    "\n",
    "    img_scaled = cv2.normalize(img_arr*16, dst=None, alpha=min_bit*16, beta=max_bit*16, norm_type=cv2.NORM_MINMAX)    \n",
    "    \n",
    "    cv2.imshow(\"output\",img_scaled)\n",
    "    cv2.waitKey(0)\n",
    "    cv2.destroyAllWindows()    "
   ]
  },
  {
   "cell_type": "markdown",
   "metadata": {},
   "source": [
    "# Tested Strategies"
   ]
  },
  {
   "cell_type": "markdown",
   "metadata": {},
   "source": [
    "## OpenCV HoughCircles"
   ]
  },
  {
   "cell_type": "code",
   "execution_count": 116,
   "metadata": {},
   "outputs": [],
   "source": [
    "def filter_circles(img, circles, threshold = 100):\n",
    "    circles = circles[0]\n",
    "\n",
    "    new_circles = []\n",
    "    for i in range(len(circles)):\n",
    "        circle = circles[i]\n",
    "        brightness = img[int(circle[1])][int(circle[0])]\n",
    "\n",
    "        if brightness < threshold:\n",
    "            new_circles.append(circle)\n",
    "            \n",
    "    return new_circles"
   ]
  },
  {
   "cell_type": "code",
   "execution_count": 117,
   "metadata": {},
   "outputs": [],
   "source": [
    "img = preprocess_img(sample_spheroid)\n",
    "_, thresh = cv2.threshold(img, 100, np.max(img), cv2.THRESH_BINARY)"
   ]
  },
  {
   "cell_type": "code",
   "execution_count": 120,
   "metadata": {},
   "outputs": [
    {
     "data": {
      "image/png": "[encoded data removed]",
      "text/plain": [
       "<Figure size 648x216 with 1 Axes>"
      ]
     },
     "metadata": {
      "needs_background": "light"
     },
     "output_type": "display_data"
    }
   ],
   "source": [
    "print_img(thresh)"
   ]
  },
  {
   "cell_type": "code",
   "execution_count": 125,
   "metadata": {},
   "outputs": [],
   "source": [
    "circles = cv2.HoughCircles(thresh,cv2.HOUGH_GRADIENT,1,minDist=500,\n",
    "                            param1=50,param2=30,minRadius=50,maxRadius=1000)\n",
    "\n",
    "circles = filter_circles(thresh, circles)"
   ]
  },
  {
   "cell_type": "code",
   "execution_count": 126,
   "metadata": {},
   "outputs": [
    {
     "data": {
      "image/png": "[encoded data removed]",
      "text/plain": [
       "<Figure size 648x216 with 1 Axes>"
      ]
     },
     "metadata": {
      "needs_background": "light"
     },
     "output_type": "display_data"
    }
   ],
   "source": [
    "fig, ax = plt.subplots(figsize=(9, 3))\n",
    "\n",
    "ax.set_title(\"HoughCircles\")\n",
    "ax.imshow(thresh, cmap=plt.cm.gray)\n",
    "\n",
    "for circle in circles:\n",
    "    x, y, r = circle[0], circle[1], circle[2]\n",
    "    c = plt.Circle((x, y), r, color=\"red\", linewidth=2, fill=False)\n",
    "    ax.add_patch(c)\n",
    "    \n",
    "ax.set_axis_off()"
   ]
  },
  {
   "cell_type": "markdown",
   "metadata": {},
   "source": [
    "## OpenCV Find Countours"
   ]
  },
  {
   "cell_type": "markdown",
   "metadata": {},
   "source": [
    "### Fitting circles"
   ]
  },
  {
   "cell_type": "code",
   "execution_count": 100,
   "metadata": {},
   "outputs": [],
   "source": [
    "threshold = 100\n",
    "\n",
    "pp_img = preprocess_img(sample_sensor)\n",
    "# pp_img = preprocess_img(sample_spheroid)\n",
    "\n",
    "_, thresh = cv2.threshold(pp_img, threshold, np.max(pp_img), cv2.THRESH_BINARY)"
   ]
  },
  {
   "cell_type": "code",
   "execution_count": null,
   "metadata": {},
   "outputs": [],
   "source": [
    "print_img(thresh)"
   ]
  },
  {
   "cell_type": "code",
   "execution_count": 107,
   "metadata": {},
   "outputs": [],
   "source": [
    "raw_contours, _ = cv2.findContours(thresh, cv2.RETR_TREE, \n",
    "                                       cv2.CHAIN_APPROX_NONE)"
   ]
  },
  {
   "cell_type": "code",
   "execution_count": null,
   "metadata": {},
   "outputs": [],
   "source": [
    "# Spheroids\n",
    "# min_radius = 100\n",
    "# max_radius = 1000\n",
    "\n",
    "# Sensors\n",
    "min_radius = 10\n",
    "max_radius = 100\n",
    "\n",
    "contours = []\n",
    "for contour in raw_contours:\n",
    "    # Most items in raw contours are lines or small shapes\n",
    "    if cv2.contourArea(contour) < (np.pi * min_radius ** 2):\n",
    "        continue\n",
    "    contours.append(contour)\n",
    "\n",
    "circle_coords = []\n",
    "for contour in contours:\n",
    "    (x, y), r = cv2.minEnclosingCircle(contour)\n",
    "    if r > max_radius:\n",
    "        continue\n",
    "    circle_coords.append((x, y, r))"
   ]
  },
  {
   "cell_type": "code",
   "execution_count": null,
   "metadata": {},
   "outputs": [],
   "source": [
    "verbose = True\n",
    "\n",
    "fig, ax = plt.subplots(figsize=(9, 3))\n",
    "\n",
    "ax.set_title(\"MinEnclosingCircle\")\n",
    "ax.imshow(pp_img, cmap=plt.cm.gray)\n",
    "\n",
    "for idx, circle in enumerate(circle_coords):\n",
    "    x, y, r = circle[0], circle[1], circle[2]\n",
    "    c = plt.Circle((x, y), r, color=\"red\", linewidth=2, fill=False)\n",
    "    \n",
    "    if verbose: \n",
    "        scale = 0.638\n",
    "        x, y, r = x/scale, y/scale, r/scale        \n",
    "        \n",
    "        ax.text(x + r, y, str(idx+1), color='red', fontsize=15)\n",
    "        print(\"Circle #{}:\\n center (x,y): ({}, {})\\n radius: {}\".format(idx+1,x,y,r))\n",
    "        \n",
    "    ax.add_patch(c)\n",
    "    \n",
    "ax.set_axis_off()"
   ]
  },
  {
   "cell_type": "code",
   "execution_count": null,
   "metadata": {},
   "outputs": [],
   "source": [
    "print_img(preprocess_img(sample_spheroid))"
   ]
  },
  {
   "cell_type": "markdown",
   "metadata": {},
   "source": [
    "### Fitting ellipses"
   ]
  },
  {
   "cell_type": "code",
   "execution_count": 15,
   "metadata": {},
   "outputs": [],
   "source": [
    "sample_sensor = tr_path + \"scan_Plate_R_p20_0_A02f00d3.TIF\"\n",
    "\n",
    "threshold = 100\n",
    "\n",
    "pp_img = preprocess_img(sample_sensor)\n",
    "# pp_img = preprocess_img(sample_spheroid)\n",
    "\n",
    "_, thresh = cv2.threshold(pp_img, threshold, np.max(pp_img), cv2.THRESH_BINARY)"
   ]
  },
  {
   "cell_type": "code",
   "execution_count": 19,
   "metadata": {},
   "outputs": [],
   "source": [
    "raw_contours, _ = cv2.findContours(thresh, cv2.RETR_TREE, \n",
    "                                       cv2.CHAIN_APPROX_NONE)"
   ]
  },
  {
   "cell_type": "code",
   "execution_count": 48,
   "metadata": {},
   "outputs": [],
   "source": [
    "# Spheroids\n",
    "# min_radius = 100\n",
    "# max_radius = 1000\n",
    "\n",
    "# Sensors\n",
    "min_radius = 10\n",
    "max_radius = 100\n",
    "\n",
    "contours = []\n",
    "for contour in raw_contours:\n",
    "    # Most items in raw contours are lines or small shapes\n",
    "    if cv2.contourArea(contour) < (np.pi * min_radius ** 2):\n",
    "        continue\n",
    "    contours.append(contour)\n",
    "\n",
    "ellipse_coords = []\n",
    "for contour in contours:\n",
    "    (x,y),(w,h),ang = cv2.fitEllipse(contour)\n",
    "    if max(w,h) > max_radius:\n",
    "        continue\n",
    "    ellipse_coords.append(((x,y),(w,h),ang))"
   ]
  },
  {
   "cell_type": "code",
   "execution_count": null,
   "metadata": {
    "scrolled": true
   },
   "outputs": [],
   "source": [
    "verbose = True\n",
    "\n",
    "fig, ax = plt.subplots(figsize=(9, 3))\n",
    "\n",
    "ax.set_title(\"FitEllipse\")\n",
    "ax.imshow(pp_img, cmap=plt.cm.gray)\n",
    "\n",
    "for idx, ellipse in enumerate(ellipse_coords):\n",
    "    (x,y), (w,h), ang = ellipse\n",
    "    \n",
    "    e = Ellipse((x,y), w, h, ang, color=\"red\", linewidth=2, fill=False)\n",
    "    \n",
    "    if verbose: \n",
    "        ax.text(x + w, y, str(idx+1), color='red', fontsize=15)\n",
    "        \n",
    "        scale = 0.638\n",
    "        x, y, w, h = x/scale, y/scale, w/scale, h/scale        \n",
    "        print(\"Ellipse #{}:\\n center (x,y): ({}, {})\\n major: {}, minor: {}, angle: {}\".format(idx+1,x,y,max(w,h),min(w,h),ang))\n",
    "        \n",
    "    ax.add_patch(e)\n",
    "    \n",
    "ax.set_axis_off()"
   ]
  },
  {
   "cell_type": "markdown",
   "metadata": {},
   "source": [
    "## OpenCV SimpleBlobDetector"
   ]
  },
  {
   "cell_type": "code",
   "execution_count": null,
   "metadata": {},
   "outputs": [],
   "source": [
    "img = cv2.imread((day_0 + sample_img), cv2.IMREAD_GRAYSCALE)\n",
    "detector = cv2.SimpleBlobDetector()\n",
    "\n",
    "# detector.detect(img) always kills the kernel\n",
    "keypoints = detector.detect(img)\n",
    "\n",
    "im_with_keypoints = cv2.drawKeypoints(img, keypoints, np.array([]), (0,0,255), cv2.DRAW_MATCHES_FLAGS_DRAW_RICH_KEYPOINTS)\n",
    " \n",
    "# Show keypoints\n",
    "cv2.imshow(\"Keypoints\", im_with_keypoints)\n",
    "cv2.waitKey(0)"
   ]
  },
  {
   "cell_type": "markdown",
   "metadata": {},
   "source": [
    "## Scikit-Images"
   ]
  },
  {
   "cell_type": "code",
   "execution_count": null,
   "metadata": {},
   "outputs": [],
   "source": [
    "image = cv2.imread(day_0 + sample_img, cv2.IMREAD_GRAYSCALE)"
   ]
  },
  {
   "cell_type": "code",
   "execution_count": null,
   "metadata": {},
   "outputs": [],
   "source": [
    "# Normalize image\n",
    "min_bit = np.min(image)\n",
    "max_bit = np.max(image)\n",
    "\n",
    "image = cv2.normalize(image*16, dst=None, alpha=min_bit*16, beta=max_bit*16, norm_type=cv2.NORM_MINMAX)"
   ]
  },
  {
   "cell_type": "markdown",
   "metadata": {},
   "source": [
    "### Laplacian of Gaussian (LoG)"
   ]
  },
  {
   "cell_type": "code",
   "execution_count": null,
   "metadata": {},
   "outputs": [],
   "source": [
    "# Threshold --> Intensity threshold. More blobs detected as it decreases.\n",
    "# Min_Sigma --> The minimum standard deviation for Gaussian kernel. Keep this low to detect smaller blobs.\n",
    "# Max_Sigma --> The maximum standard deviation for Gaussian kernel. Keep this high to detect larger blobs.\n",
    "\n",
    "blobs_log = blob_log(image, min_sigma=200, max_sigma=250, num_sigma=10, threshold=10)\n",
    "# Compute radii in the 3rd column.\n",
    "blobs_log[:, 2] = blobs_log[:, 2] * np.sqrt(2)"
   ]
  },
  {
   "cell_type": "code",
   "execution_count": null,
   "metadata": {},
   "outputs": [],
   "source": [
    "fig, ax = plt.subplots(figsize=(9, 3))\n",
    "\n",
    "ax.set_title(\"Laplacian of Gaussian\")\n",
    "ax.imshow(image,cmap=plt.cm.gray)\n",
    "\n",
    "for blob in blobs_log:\n",
    "    y, x, r = blob\n",
    "    c = plt.Circle((x, y), r, color=\"red\", linewidth=2, fill=False)\n",
    "    ax.add_patch(c)\n",
    "    \n",
    "ax.set_axis_off()"
   ]
  },
  {
   "cell_type": "markdown",
   "metadata": {},
   "source": [
    "### Determinant of Hessian (DoH)"
   ]
  },
  {
   "cell_type": "code",
   "execution_count": null,
   "metadata": {},
   "outputs": [],
   "source": [
    "blobs_doh = blob_doh(image, max_sigma=500, threshold=0.01)"
   ]
  },
  {
   "cell_type": "code",
   "execution_count": null,
   "metadata": {},
   "outputs": [],
   "source": [
    "fig, ax = plt.subplots(figsize=(9, 3))\n",
    "\n",
    "ax.set_title(\"Determinant of Hessiana\")\n",
    "ax.imshow(image, cmap=plt.cm.gray)\n",
    "\n",
    "for blob in blobs_doh:\n",
    "    y, x, r = blob\n",
    "    c = plt.Circle((x, y), r, color=\"red\", linewidth=2, fill=False)\n",
    "    ax.add_patch(c)\n",
    "    \n",
    "ax.set_axis_off()"
   ]
  },
  {
   "cell_type": "markdown",
   "metadata": {},
   "source": [
    "## PyQT "
   ]
  },
  {
   "cell_type": "code",
   "execution_count": null,
   "metadata": {},
   "outputs": [],
   "source": [
    "import sys\n",
    "try:\n",
    "    from PyQt5.QtCore import Qt, QT_VERSION_STR\n",
    "    from PyQt5.QtGui import QImage\n",
    "    from PyQt5.QtWidgets import QApplication, QFileDialog\n",
    "except ImportError:\n",
    "    try:\n",
    "        from PyQt4.QtCore import Qt, QT_VERSION_STR\n",
    "        from PyQt4.QtGui import QImage, QApplication, QFileDialog\n",
    "    except ImportError:\n",
    "        raise ImportError(\"Requires PyQt5 or PyQt4.\")\n",
    "from QtImageViewer import QtImageViewer\n",
    "\n",
    "\n",
    "# Custom slot for handling mouse clicks in our viewer.\n",
    "# Just prints the (row, column) matrix index of the \n",
    "# image pixel that was clicked on.\n",
    "def handleLeftClick(x, y):\n",
    "    row = int(y)\n",
    "    column = int(x)\n",
    "    print(\"Pixel (row=\"+str(row)+\", column=\"+str(column)+\")\")\n",
    "    \n",
    "\n",
    "if __name__ == '__main__':\n",
    "    # Create the QApplication.\n",
    "    app = QApplication(sys.argv)\n",
    "        \n",
    "    # Create an image viewer widget.\n",
    "    viewer = QtImageViewer()\n",
    "        \n",
    "    # Set viewer's aspect ratio mode.\n",
    "    # !!! ONLY applies to full image view.\n",
    "    # !!! Aspect ratio always ignored when zoomed.\n",
    "    #   Qt.IgnoreAspectRatio: Fit to viewport.\n",
    "    #   Qt.KeepAspectRatio: Fit in viewport using aspect ratio.\n",
    "    #   Qt.KeepAspectRatioByExpanding: Fill viewport using aspect ratio.\n",
    "    viewer.aspectRatioMode = Qt.KeepAspectRatio\n",
    "    \n",
    "    # Set the viewer's scroll bar behaviour.\n",
    "    #   Qt.ScrollBarAlwaysOff: Never show scroll bar.\n",
    "    #   Qt.ScrollBarAlwaysOn: Always show scroll bar.\n",
    "    #   Qt.ScrollBarAsNeeded: Show scroll bar only when zoomed.\n",
    "    viewer.setHorizontalScrollBarPolicy(Qt.ScrollBarAsNeeded)\n",
    "    viewer.setVerticalScrollBarPolicy(Qt.ScrollBarAsNeeded)\n",
    "    \n",
    "    # Allow zooming with right mouse button.\n",
    "    # Drag for zoom box, doubleclick to view full image.\n",
    "    viewer.canZoom = True\n",
    "    \n",
    "    # Allow panning with left mouse button.\n",
    "    viewer.canPan = True\n",
    "        \n",
    "    # Load an image to be displayed.\n",
    "    if QT_VERSION_STR[0] == '4':\n",
    "        fileName = QFileDialog.getOpenFileName(None, \"Open image file...\")\n",
    "    elif QT_VERSION_STR[0] == '5':\n",
    "        fileName, dummy = QFileDialog.getOpenFileName(None, \"Open image file...\")\n",
    "    image = QImage(fileName)\n",
    "    \n",
    "    # Display the image in the viewer.\n",
    "    viewer.setImage(image)\n",
    "    \n",
    "    # Handle left mouse clicks with your own custom slot\n",
    "    # handleLeftClick(x, y). (x, y) are image coordinates.\n",
    "    # For (row, col) matrix indexing, row=y and col=x.\n",
    "    # ImageViewerQt also provides similar signals for\n",
    "    # left/right mouse button press, release and doubleclick.\n",
    "    viewer.leftMouseButtonPressed.connect(handleLeftClick)\n",
    "        \n",
    "    # Show the viewer and run the application.\n",
    "    viewer.show()\n",
    "    sys.exit(app.exec_())"
   ]
  }
 ],
 "metadata": {
  "kernelspec": {
   "display_name": "pyimagej",
   "language": "python",
   "name": "pyimagej"
  },
  "language_info": {
   "codemirror_mode": {
    "name": "ipython",
    "version": 3
   },
   "file_extension": ".py",
   "mimetype": "text/x-python",
   "name": "python",
   "nbconvert_exporter": "python",
   "pygments_lexer": "ipython3",
   "version": "3.8.5"
  }
 },
 "nbformat": 4,
 "nbformat_minor": 4
}
