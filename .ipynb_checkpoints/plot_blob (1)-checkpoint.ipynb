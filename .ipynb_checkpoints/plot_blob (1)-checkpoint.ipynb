{
 "cells": [
  {
   "cell_type": "code",
   "execution_count": null,
   "metadata": {},
   "outputs": [],
   "source": [
    "%matplotlib inline"
   ]
  },
  {
   "cell_type": "markdown",
   "metadata": {},
   "source": [
    "\n",
    "# Blob Detection\n",
    "\n",
    "Blobs are bright on dark or dark on bright regions in an image. In\n",
    "this example, blobs are detected using 3 algorithms. The image used\n",
    "in this case is the Hubble eXtreme Deep Field. Each bright dot in the\n",
    "image is a star or a galaxy.\n",
    "\n",
    "## Laplacian of Gaussian (LoG)\n",
    "This is the most accurate and slowest approach. It computes the Laplacian\n",
    "of Gaussian images with successively increasing standard deviation and\n",
    "stacks them up in a cube. Blobs are local maximas in this cube. Detecting\n",
    "larger blobs is especially slower because of larger kernel sizes during\n",
    "convolution. Only bright blobs on dark backgrounds are detected. See\n",
    ":py:meth:`skimage.feature.blob_log` for usage.\n",
    "\n",
    "## Difference of Gaussian (DoG)\n",
    "This is a faster approximation of LoG approach. In this case the image is\n",
    "blurred with increasing standard deviations and the difference between\n",
    "two successively blurred images are stacked up in a cube. This method\n",
    "suffers from the same disadvantage as LoG approach for detecting larger\n",
    "blobs. Blobs are again assumed to be bright on dark. See\n",
    ":py:meth:`skimage.feature.blob_dog` for usage.\n",
    "\n",
    "## Determinant of Hessian (DoH)\n",
    "This is the fastest approach. It detects blobs by finding maximas in the\n",
    "matrix of the Determinant of Hessian of the image. The detection speed is\n",
    "independent of the size of blobs as internally the implementation uses\n",
    "box filters instead of convolutions. Bright on dark as well as dark on\n",
    "bright blobs are detected. The downside is that small blobs (<3px) are not\n",
    "detected accurately. See :py:meth:`skimage.feature.blob_doh` for usage.\n"
   ]
  },
  {
   "cell_type": "code",
   "execution_count": null,
   "metadata": {},
   "outputs": [],
   "source": [
    "from math import sqrt\n",
    "from skimage import data\n",
    "from skimage.feature import blob_dog, blob_log, blob_doh\n",
    "from skimage.color import rgb2gray\n",
    "\n",
    "import matplotlib.pyplot as plt\n",
    "\n",
    "\n",
    "image = data.hubble_deep_field()[0:500, 0:500]\n",
    "image_gray = rgb2gray(image)\n",
    "\n",
    "blobs_log = blob_log(image_gray, max_sigma=30, num_sigma=10, threshold=.1)\n",
    "\n",
    "# Compute radii in the 3rd column.\n",
    "blobs_log[:, 2] = blobs_log[:, 2] * sqrt(2)\n",
    "\n",
    "blobs_dog = blob_dog(image_gray, max_sigma=30, threshold=.1)\n",
    "blobs_dog[:, 2] = blobs_dog[:, 2] * sqrt(2)\n",
    "\n",
    "blobs_doh = blob_doh(image_gray, max_sigma=30, threshold=.01)\n",
    "\n",
    "blobs_list = [blobs_log, blobs_dog, blobs_doh]\n",
    "colors = ['yellow', 'lime', 'red']\n",
    "titles = ['Laplacian of Gaussian', 'Difference of Gaussian',\n",
    "          'Determinant of Hessian']\n",
    "sequence = zip(blobs_list, colors, titles)\n",
    "\n",
    "fig, axes = plt.subplots(1, 3, figsize=(9, 3), sharex=True, sharey=True)\n",
    "ax = axes.ravel()\n",
    "\n",
    "for idx, (blobs, color, title) in enumerate(sequence):\n",
    "    ax[idx].set_title(title)\n",
    "    ax[idx].imshow(image)\n",
    "    for blob in blobs:\n",
    "        y, x, r = blob\n",
    "        c = plt.Circle((x, y), r, color=color, linewidth=2, fill=False)\n",
    "        ax[idx].add_patch(c)\n",
    "    ax[idx].set_axis_off()\n",
    "\n",
    "plt.tight_layout()\n",
    "plt.show()"
   ]
  }
 ],
 "metadata": {
  "kernelspec": {
   "display_name": "Python 3",
   "language": "python",
   "name": "python3"
  },
  "language_info": {
   "codemirror_mode": {
    "name": "ipython",
    "version": 3
   },
   "file_extension": ".py",
   "mimetype": "text/x-python",
   "name": "python",
   "nbconvert_exporter": "python",
   "pygments_lexer": "ipython3",
   "version": "3.8.5"
  }
 },
 "nbformat": 4,
 "nbformat_minor": 1
}
