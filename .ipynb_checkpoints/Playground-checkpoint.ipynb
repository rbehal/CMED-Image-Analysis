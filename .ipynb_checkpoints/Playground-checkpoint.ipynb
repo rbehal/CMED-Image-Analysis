{
 "cells": [
  {
   "cell_type": "code",
   "execution_count": null,
   "metadata": {},
   "outputs": [],
   "source": [
    "import cv2\n",
    "\n",
    "def click_event(event, x, y, flags, param):\n",
    "    if event == cv2.EVENT_LBUTTONDOWN:\n",
    "        print(x, y)\n",
    "    if event == cv2.EVENT_RBUTTONDOWN:\n",
    "        red = img[y,x,2]\n",
    "        blue = img[y,x,0]\n",
    "        green = img[y,x,1]\n",
    "        print(red, green, blue)\n",
    "        strRGB = str(red) + \",\" + str(green) + \",\" +str(blue)\n",
    "        font = cv2.FONT_HERSHEY_SIMPLEX\n",
    "        cv2.putText(img,strRGB,(x,y), font, 1,(255,255,255),2)\n",
    "        cv2.imshow('original', img)\t\n",
    "        \n",
    "img = cv2.imread('Profile.png')\n",
    "cv2.imshow('original', img)\n",
    "\n",
    "cv2.setMouseCallback(\"original\", click_event)\n",
    "cv2.waitKey(0)\n",
    "\n",
    "cv2.destroyAllWindows"
   ]
  }
 ],
 "metadata": {
  "kernelspec": {
   "display_name": "pyimagej",
   "language": "python",
   "name": "pyimagej"
  },
  "language_info": {
   "codemirror_mode": {
    "name": "ipython",
    "version": 3
   },
   "file_extension": ".py",
   "mimetype": "text/x-python",
   "name": "python",
   "nbconvert_exporter": "python",
   "pygments_lexer": "ipython3",
   "version": "3.8.6"
  }
 },
 "nbformat": 4,
 "nbformat_minor": 4
}
