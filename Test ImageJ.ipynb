{
 "cells": [
  {
   "cell_type": "markdown",
   "metadata": {},
   "source": [
    "# ImageJ Tutorials and Demo\n",
    "\n",
    "Welcome to the ImageJ tutorial series. These notebooks offer a hands-on series of lessons for learning ImageJ.\n",
    "\n",
    "* For a quick demo of what ImageJ can do, ___just scroll down___!\n",
    "\n",
    "* To dive in to the tutorials, click the links below. If ImageJ is new to you, please try the \"Using ImageJ\" notebooks first.\n",
    "\n",
    "* For a thorough academic overview of the ImageJ software stack, including its features, history, motivation and goals, see:\n",
    "  > Rueden CT et al. \"[ImageJ2: ImageJ for the next generation of scientific image data](https://doi.org/10.1186%2Fs12859-017-1934-z).\" _BMC Bioinformatics_ __18:529__ (29 November 2017).\n",
    "  \n",
    "* Learn more about ImageJ at [imagej.net](https://imagej.net/). Learn more about Jupyter Notebook at [jupyter.org](https://jupyter.org/).\n",
    "  \n",
    "* See also [scikit-image tutorial notebooks](https://github.com/scikit-image/skimage-tutorials) and [SimpleITK tutorial notebooks](https://github.com/InsightSoftwareConsortium/SimpleITK-Notebooks).\n",
    "\n",
    "Feedback is very welcome! Please share your ideas on the [Image.sc Forum](https://forum.image.sc/)!"
   ]
  },
  {
   "cell_type": "markdown",
   "metadata": {},
   "source": [
    "<div class=\"row\">\n",
    "  <div class=\"col-md-12\" style=\"border-top: solid 1px #888; margin-top: 20px;\">\n",
    "  </div>\n",
    "</div>\n",
    "<div class=\"row\">\n",
    "  <div class=\"col-md-6\">\n",
    "    <h2>Using ImageJ</h2>\n",
    "    <ol>\n",
    "      <li><a href=\"1-Using-ImageJ/1-Fundamentals.ipynb\">Fundamentals of ImageJ</a></li>\n",
    "      <li><a href=\"1-Using-ImageJ/2-ImageJ-Ops.ipynb\">ImageJ Ops</a></li>\n",
    "      <li><a href=\"1-Using-ImageJ/3-ImgLib2-Basics.ipynb\">ImgLib2 Basics</li>\n",
    "      <li><a href=\"1-Using-ImageJ/4-Tables.ipynb\">Tables</a></li>\n",
    "      <li><a href=\"1-Using-ImageJ/5-Mixed-World-ImageJ1.ipynb\">Mixed World: Using ImageJ 1.x</a></li>\n",
    "      <li><a href=\"1-Using-ImageJ/6-ImageJ-with-Python-Kernel.ipynb\">ImageJ with Python Kernel</a></li>\n",
    "      <li><a href=\"1-Using-ImageJ/7-Calling-Scripts-from-Scripts.ipynb\">Calling Scripts from Scripts</a></li>\n",
    "    </ol>\n",
    "  </div>\n",
    "  <div class=\"col-md-6\">\n",
    "    <h2>Extending ImageJ</h2>\n",
    "    <ol>\n",
    "      <li><a href=\"2-Extending-ImageJ/1-Input-Output.ipynb\">IOPlugins - Data Input and Output</a></li>\n",
    "      <li><a href=\"2-Extending-ImageJ/2-Ops.ipynb\">Ops - Image Algorithms</a></li>\n",
    "    </ol>\n",
    "    <h2>Advanced Topics</h2>\n",
    "    <ol>\n",
    "      <li><a href=\"3-Advanced-Topics/1-SciJava-in-Detail.ipynb\">SciJava in Detail</a></li>\n",
    "      <li><a href=\"3-Advanced-Topics/2-ImgLib2-in-Detail.ipynb\">ImgLib2 in Detail</a></li>\n",
    "      <li><a href=\"3-Advanced-Topics/3-Using-Special-Ops.ipynb\">Using Special Ops</a></li>\n",
    "    </ol>\n",
    "  </div>\n",
    "</div>\n",
    "<div class=\"row\">\n",
    "  <div class=\"col-md-12\" style=\"border-top: solid 1px #888; margin-top: 20px;\">\n",
    "  </div>\n",
    "</div>"
   ]
  },
  {
   "cell_type": "markdown",
   "metadata": {},
   "source": [
    "## ImageJ Demo"
   ]
  },
  {
   "cell_type": "markdown",
   "metadata": {},
   "source": [
    "First, we tell the notebook to download and install ImageJ from the remote repository."
   ]
  },
  {
   "cell_type": "code",
   "execution_count": null,
   "metadata": {
    "scrolled": true
   },
   "outputs": [],
   "source": [
    "%classpath config resolver scijava.public https://maven.scijava.org/content/groups/public\n",
    "%%classpath add mvn\n",
    "net.imagej imagej 2.0.0-rc-71\n",
    "net.imagej imagej-notebook 0.7.1"
   ]
  },
  {
   "cell_type": "markdown",
   "metadata": {},
   "source": [
    "Now that ImageJ functionality is available to the notebook, we create an ImageJ gateway."
   ]
  },
  {
   "cell_type": "code",
   "execution_count": null,
   "metadata": {
    "scrolled": false
   },
   "outputs": [],
   "source": [
    "ij = new net.imagej.ImageJ()\n",
    "\"ImageJ v${ij.getVersion()} is ready to go.\""
   ]
  },
  {
   "cell_type": "code",
   "execution_count": 1,
   "metadata": {},
   "outputs": [],
   "source": [
    "import imagej\n",
    "ij = imagej.init();"
   ]
  },
  {
   "cell_type": "code",
   "execution_count": 3,
   "metadata": {},
   "outputs": [
    {
     "ename": "AttributeError",
     "evalue": "'net.imagej.ImageJ' object has no attribute 'IJ'",
     "output_type": "error",
     "traceback": [
      "\u001b[1;31m---------------------------------------------------------------------------\u001b[0m",
      "\u001b[1;31mAttributeError\u001b[0m                            Traceback (most recent call last)",
      "\u001b[1;32m<ipython-input-3-c27bf8a98e85>\u001b[0m in \u001b[0;36m<module>\u001b[1;34m\u001b[0m\n\u001b[1;32m----> 1\u001b[1;33m \u001b[0mij\u001b[0m\u001b[1;33m.\u001b[0m\u001b[0mIJ\u001b[0m\u001b[1;33m\u001b[0m\u001b[1;33m\u001b[0m\u001b[0m\n\u001b[0m",
      "\u001b[1;31mAttributeError\u001b[0m: 'net.imagej.ImageJ' object has no attribute 'IJ'"
     ]
    }
   ],
   "source": [
    "ij.IJ"
   ]
  },
  {
   "cell_type": "markdown",
   "metadata": {},
   "source": [
    "For further details, see the [Fundamentals of ImageJ](1-Using-ImageJ/1-Fundamentals.ipynb) notebook."
   ]
  },
  {
   "cell_type": "markdown",
   "metadata": {},
   "source": [
    "### Load an image"
   ]
  },
  {
   "cell_type": "markdown",
   "metadata": {},
   "source": [
    "You can open images from local files as well as remote URLs."
   ]
  },
  {
   "cell_type": "code",
   "execution_count": 7,
   "metadata": {
    "scrolled": false
   },
   "outputs": [],
   "source": [
    "jimage = ij.io().open(\"https://imagej.net/images/lymp.tif\")"
   ]
  },
  {
   "cell_type": "code",
   "execution_count": 8,
   "metadata": {},
   "outputs": [],
   "source": [
    "image = ij.py.from_java(jimage)"
   ]
  },
  {
   "cell_type": "code",
   "execution_count": null,
   "metadata": {},
   "outputs": [],
   "source": [
    "image"
   ]
  },
  {
   "cell_type": "markdown",
   "metadata": {},
   "source": [
    "### Compute histogram"
   ]
  },
  {
   "cell_type": "code",
   "execution_count": 3,
   "metadata": {},
   "outputs": [],
   "source": [
    "histogram = ij.op().image().histogram(image)"
   ]
  },
  {
   "cell_type": "markdown",
   "metadata": {},
   "source": [
    "### N-dimensional crop"
   ]
  },
  {
   "cell_type": "code",
   "execution_count": 4,
   "metadata": {},
   "outputs": [
    {
     "name": "stderr",
     "output_type": "stream",
     "text": [
      "[java.lang.Enum.toString] [INFO] Populating metadata\r\n"
     ]
    }
   ],
   "source": [
    "mandrill = ij.io().open(\"https://imagej.net/images/baboon.jpg\")"
   ]
  },
  {
   "cell_type": "code",
   "execution_count": null,
   "metadata": {},
   "outputs": [],
   "source": [
    "import net.imglib2.FinalInterval\n",
    "min = [85, 0, 110]\n",
    "len = [5, 335, 1]\n",
    "bounds = FinalInterval.createMinSize(min[0], len[0], min[1], len[1], min[2], len[2])\n",
    "eyes = ij.op().transform().crop(mandrill, bounds, true)"
   ]
  },
  {
   "cell_type": "markdown",
   "metadata": {},
   "source": [
    "### Type conversion"
   ]
  },
  {
   "cell_type": "code",
   "execution_count": null,
   "metadata": {},
   "outputs": [],
   "source": [
    "eyes32 = ij.op().convert().float32(eyes)"
   ]
  },
  {
   "cell_type": "code",
   "execution_count": null,
   "metadata": {},
   "outputs": [],
   "source": [
    "eyes.firstElement().getClass().getName()"
   ]
  },
  {
   "cell_type": "code",
   "execution_count": null,
   "metadata": {},
   "outputs": [],
   "source": [
    "eyes32.firstElement().getClass().getName()"
   ]
  },
  {
   "cell_type": "markdown",
   "metadata": {},
   "source": [
    "### Median filter with circular neighborhood"
   ]
  },
  {
   "cell_type": "code",
   "execution_count": null,
   "metadata": {},
   "outputs": [],
   "source": [
    "import net.imglib2.algorithm.neighborhood.HyperSphereShape\n",
    "median = ij.op().run(\"create.img\", eyes32)\n",
    "neighborhood = new HyperSphereShape(4)\n",
    "ij.op().run(\"filter.median\", median, eyes32, neighborhood)"
   ]
  },
  {
   "cell_type": "markdown",
   "metadata": {},
   "source": [
    "### Difference of Gaussians formula"
   ]
  },
  {
   "cell_type": "code",
   "execution_count": null,
   "metadata": {},
   "outputs": [],
   "source": [
    "dogFormula = \"gauss(image, sigma1) - gauss(image, sigma2)\"\n",
    "dog = ij.op().eval(dogFormula, [\n",
    "  \"image\": eyes32,\n",
    "  \"sigma1\": [20, 20],\n",
    "  \"sigma2\": [4, 4]\n",
    "])"
   ]
  },
  {
   "cell_type": "markdown",
   "metadata": {},
   "source": [
    "### Grayscale morphology operators"
   ]
  },
  {
   "cell_type": "code",
   "execution_count": null,
   "metadata": {},
   "outputs": [],
   "source": [
    "topHat = ij.op().morphology().topHat(eyes, [neighborhood])"
   ]
  },
  {
   "cell_type": "code",
   "execution_count": null,
   "metadata": {},
   "outputs": [],
   "source": [
    "blackTopHat = ij.op().morphology().blackTopHat(eyes, [neighborhood])"
   ]
  },
  {
   "cell_type": "markdown",
   "metadata": {},
   "source": [
    "### Display multiple images at once"
   ]
  },
  {
   "cell_type": "code",
   "execution_count": null,
   "metadata": {},
   "outputs": [],
   "source": [
    "ij.notebook().display([\"median\":median, \"topHat\":topHat, \"blackTopHat\":blackTopHat])"
   ]
  },
  {
   "cell_type": "code",
   "execution_count": null,
   "metadata": {},
   "outputs": [],
   "source": [
    "ij.notebook().display([[\"median\":median, \"topHat\":topHat, \"blackTopHat\":blackTopHat]])"
   ]
  },
  {
   "cell_type": "markdown",
   "metadata": {},
   "source": [
    "### Fourier transform with lowpass filter"
   ]
  },
  {
   "cell_type": "markdown",
   "metadata": {},
   "source": [
    "Define a lowpass filtering function, operating in the Fourier domain:"
   ]
  },
  {
   "cell_type": "code",
   "execution_count": null,
   "metadata": {},
   "outputs": [],
   "source": [
    "import net.imglib2.util.Util\n",
    "\n",
    "lowpass = { fft, radius ->\n",
    "  // Declare an array to hold the current position of the cursor.\n",
    "  pos = new long[fft.numDimensions()]\n",
    "\n",
    "  // Define origin as 0,0.\n",
    "  long[] origin = [0, 0]\n",
    "\n",
    "  // Define a 2nd 'origin' at bottom left of image.\n",
    "  // This is a bit of a hack. We want to draw a circle around the origin,\n",
    "  // since the origin is at 0,0 - the circle will 'reflect' to the bottom.\n",
    "  long[] origin2 = [0, fft.dimension(1)]\n",
    "\n",
    "  // Loop through all pixels.\n",
    "  cursor = fft.localizingCursor()\n",
    "  while (cursor.hasNext()) {\n",
    "    cursor.fwd()\n",
    "    cursor.localize(pos)\n",
    "\n",
    "    // Calculate distance from 0,0 and bottom left corner\n",
    "    // (so we can form the reflected semi-circle).\n",
    "    dist = Util.distance(origin, pos)\n",
    "    dist2 = Util.distance(origin2, pos)\n",
    "\n",
    "    // If distance is above radius (cutoff frequency) set value of FFT to zero.\n",
    "    if (dist > radius && dist2 > radius)\n",
    "      cursor.get().setZero()\n",
    "  }\n",
    "}"
   ]
  },
  {
   "cell_type": "markdown",
   "metadata": {},
   "source": [
    "Perform a fast Fourier transform (FFT) on the image, run the lowpass filter, then invert the FFT:"
   ]
  },
  {
   "cell_type": "code",
   "execution_count": null,
   "metadata": {
    "scrolled": false
   },
   "outputs": [],
   "source": [
    "import net.imglib2.type.numeric.real.FloatType\n",
    "\n",
    "// Perform fft of the input.\n",
    "fft = ij.op().filter().fft(image)\n",
    "\n",
    "// Filter it.\n",
    "lowpass(fft, radius=10)\n",
    "\n",
    "// Reverse the FFT.\n",
    "inverse = ij.op().run(\"create.img\", image, new FloatType())\n",
    "ij.op().filter().ifft(inverse, fft)\n",
    "\n",
    "// Display the result.\n",
    "ij.notebook().display([[\"image\":image, \"lowpass\":inverse]])"
   ]
  }
 ],
 "metadata": {
  "kernelspec": {
   "display_name": "pyimagej",
   "language": "python",
   "name": "pyimagej"
  },
  "language_info": {
   "codemirror_mode": {
    "name": "ipython",
    "version": 3
   },
   "file_extension": ".py",
   "mimetype": "text/x-python",
   "name": "python",
   "nbconvert_exporter": "python",
   "pygments_lexer": "ipython3",
   "version": "3.8.6"
  },
  "toc": {
   "base_numbering": 1,
   "nav_menu": {},
   "number_sections": true,
   "sideBar": true,
   "skip_h1_title": true,
   "title_cell": "Table of Contents",
   "title_sidebar": "Contents",
   "toc_cell": false,
   "toc_position": {
    "height": "calc(100% - 180px)",
    "left": "10px",
    "top": "150px",
    "width": "307px"
   },
   "toc_section_display": true,
   "toc_window_display": true
  }
 },
 "nbformat": 4,
 "nbformat_minor": 2
}
